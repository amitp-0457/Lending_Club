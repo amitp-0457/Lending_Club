{
 "cells": [
  {
   "cell_type": "code",
   "execution_count": 130,
   "id": "0e0b5751",
   "metadata": {},
   "outputs": [],
   "source": [
    "###\n",
    "#You work for a consumer finance company which specialises in lending various types of loans to urban customers. When the company receives a loan application, the company has to make a decision for loan approval based on the applicant’s profile. Two types of risks are associated with the bank’s decision:\n",
    "#If the applicant is likely to repay the loan, then not approving the loan results in a loss of business to the company\n",
    "#If the applicant is not likely to repay the loan, i.e. he/she is likely to default, then approving the loan may lead to a financial loss for the company\n",
    "#The data given below contains information about past loan applicants and whether they ‘defaulted’ or not. The aim is to identify patterns which indicate if a person is likely to default, which may be used for taking actions such as denying the loan, reducing the amount of loan, lending (to risky applicants) at a higher interest rate, etc.\n",
    "###\n"
   ]
  },
  {
   "cell_type": "code",
   "execution_count": 1,
   "id": "8c5e2e2d",
   "metadata": {},
   "outputs": [],
   "source": [
    "# Import libraries required.\n",
    "import numpy as np\n",
    "import pandas as pd\n",
    "import matplotlib.pyplot as plt\n",
    "import seaborn as sns\n"
   ]
  },
  {
   "cell_type": "code",
   "execution_count": 2,
   "id": "a8c9e7d5",
   "metadata": {},
   "outputs": [
    {
     "name": "stdout",
     "output_type": "stream",
     "text": [
      "Old Shape :\n",
      "(39717, 111)\n",
      "<class 'pandas.core.frame.DataFrame'>\n",
      "RangeIndex: 39717 entries, 0 to 39716\n",
      "Columns: 111 entries, id to total_il_high_credit_limit\n",
      "dtypes: object(111)\n",
      "memory usage: 33.6+ MB\n",
      "None\n",
      "id                            object\n",
      "member_id                     object\n",
      "loan_amnt                     object\n",
      "funded_amnt                   object\n",
      "funded_amnt_inv               object\n",
      "                               ...  \n",
      "tax_liens                     object\n",
      "tot_hi_cred_lim               object\n",
      "total_bal_ex_mort             object\n",
      "total_bc_limit                object\n",
      "total_il_high_credit_limit    object\n",
      "Length: 111, dtype: object\n"
     ]
    }
   ],
   "source": [
    "# Read CSV file and describe the attributes of the csv file\n",
    "loan = pd.read_csv('C:\\\\Users\\\\91903\\\\Downloads\\\\loan_lc\\\\loan.csv',dtype = 'object')\n",
    "print(\"Old Shape :\")\n",
    "print(loan.shape)\n",
    "\n",
    "\n",
    "print(loan.info())\n",
    "print(loan.dtypes)\n"
   ]
  },
  {
   "cell_type": "code",
   "execution_count": 4,
   "id": "27686535",
   "metadata": {},
   "outputs": [
    {
     "name": "stdout",
     "output_type": "stream",
     "text": [
      "Count of Duplicate Rows :\n"
     ]
    },
    {
     "data": {
      "text/html": [
       "<div>\n",
       "<style scoped>\n",
       "    .dataframe tbody tr th:only-of-type {\n",
       "        vertical-align: middle;\n",
       "    }\n",
       "\n",
       "    .dataframe tbody tr th {\n",
       "        vertical-align: top;\n",
       "    }\n",
       "\n",
       "    .dataframe thead th {\n",
       "        text-align: right;\n",
       "    }\n",
       "</style>\n",
       "<table border=\"1\" class=\"dataframe\">\n",
       "  <thead>\n",
       "    <tr style=\"text-align: right;\">\n",
       "      <th></th>\n",
       "      <th>id</th>\n",
       "      <th>member_id</th>\n",
       "      <th>loan_amnt</th>\n",
       "      <th>funded_amnt</th>\n",
       "      <th>funded_amnt_inv</th>\n",
       "      <th>term</th>\n",
       "      <th>int_rate</th>\n",
       "      <th>installment</th>\n",
       "      <th>grade</th>\n",
       "      <th>sub_grade</th>\n",
       "      <th>...</th>\n",
       "      <th>num_tl_90g_dpd_24m</th>\n",
       "      <th>num_tl_op_past_12m</th>\n",
       "      <th>pct_tl_nvr_dlq</th>\n",
       "      <th>percent_bc_gt_75</th>\n",
       "      <th>pub_rec_bankruptcies</th>\n",
       "      <th>tax_liens</th>\n",
       "      <th>tot_hi_cred_lim</th>\n",
       "      <th>total_bal_ex_mort</th>\n",
       "      <th>total_bc_limit</th>\n",
       "      <th>total_il_high_credit_limit</th>\n",
       "    </tr>\n",
       "  </thead>\n",
       "  <tbody>\n",
       "  </tbody>\n",
       "</table>\n",
       "<p>0 rows × 111 columns</p>\n",
       "</div>"
      ],
      "text/plain": [
       "Empty DataFrame\n",
       "Columns: [id, member_id, loan_amnt, funded_amnt, funded_amnt_inv, term, int_rate, installment, grade, sub_grade, emp_title, emp_length, home_ownership, annual_inc, verification_status, issue_d, loan_status, pymnt_plan, url, desc, purpose, title, zip_code, addr_state, dti, delinq_2yrs, earliest_cr_line, inq_last_6mths, mths_since_last_delinq, mths_since_last_record, open_acc, pub_rec, revol_bal, revol_util, total_acc, initial_list_status, out_prncp, out_prncp_inv, total_pymnt, total_pymnt_inv, total_rec_prncp, total_rec_int, total_rec_late_fee, recoveries, collection_recovery_fee, last_pymnt_d, last_pymnt_amnt, next_pymnt_d, last_credit_pull_d, collections_12_mths_ex_med, mths_since_last_major_derog, policy_code, application_type, annual_inc_joint, dti_joint, verification_status_joint, acc_now_delinq, tot_coll_amt, tot_cur_bal, open_acc_6m, open_il_6m, open_il_12m, open_il_24m, mths_since_rcnt_il, total_bal_il, il_util, open_rv_12m, open_rv_24m, max_bal_bc, all_util, total_rev_hi_lim, inq_fi, total_cu_tl, inq_last_12m, acc_open_past_24mths, avg_cur_bal, bc_open_to_buy, bc_util, chargeoff_within_12_mths, delinq_amnt, mo_sin_old_il_acct, mo_sin_old_rev_tl_op, mo_sin_rcnt_rev_tl_op, mo_sin_rcnt_tl, mort_acc, mths_since_recent_bc, mths_since_recent_bc_dlq, mths_since_recent_inq, mths_since_recent_revol_delinq, num_accts_ever_120_pd, num_actv_bc_tl, num_actv_rev_tl, num_bc_sats, num_bc_tl, num_il_tl, num_op_rev_tl, num_rev_accts, num_rev_tl_bal_gt_0, num_sats, num_tl_120dpd_2m, ...]\n",
       "Index: []\n",
       "\n",
       "[0 rows x 111 columns]"
      ]
     },
     "execution_count": 4,
     "metadata": {},
     "output_type": "execute_result"
    }
   ],
   "source": [
    "#Data Cleaning\n",
    "# 1. Check for the duplicate entries\n",
    "duplicate = loan[loan.duplicated()]\n",
    "print(\"Count of Duplicate Rows :\")\n",
    "duplicate\n",
    "\n",
    " "
   ]
  },
  {
   "cell_type": "code",
   "execution_count": 5,
   "id": "1a94e962",
   "metadata": {},
   "outputs": [
    {
     "name": "stdout",
     "output_type": "stream",
     "text": [
      "0\n"
     ]
    }
   ],
   "source": [
    "#Data Cleaning\n",
    "#2 Find sum of rows having missing value\n",
    "print(loan.isnull().all(axis=1).sum())\n",
    "\n",
    "# Result = There is no empty rows"
   ]
  },
  {
   "cell_type": "code",
   "execution_count": 6,
   "id": "d6a56ac7",
   "metadata": {},
   "outputs": [
    {
     "name": "stdout",
     "output_type": "stream",
     "text": [
      "54\n"
     ]
    }
   ],
   "source": [
    "#Data Cleaning\n",
    "#3 Find sum of col having missing value\n",
    "print(loan.isnull().all(axis = 0).sum())\n",
    "\n",
    "# Result = 54 , There are 54 columns having missing value\n"
   ]
  },
  {
   "cell_type": "code",
   "execution_count": 288,
   "id": "593ad277",
   "metadata": {},
   "outputs": [
    {
     "data": {
      "text/plain": [
       "id                                0\n",
       "member_id                         0\n",
       "loan_amnt                         0\n",
       "funded_amnt                       0\n",
       "funded_amnt_inv                   0\n",
       "                              ...  \n",
       "tax_liens                        39\n",
       "tot_hi_cred_lim               39717\n",
       "total_bal_ex_mort             39717\n",
       "total_bc_limit                39717\n",
       "total_il_high_credit_limit    39717\n",
       "Length: 111, dtype: int64"
      ]
     },
     "execution_count": 288,
     "metadata": {},
     "output_type": "execute_result"
    }
   ],
   "source": [
    "# Data Cleaning\n",
    "# 4 Find the column which is having the missing values\n",
    "loan.isnull().sum()\n",
    "\n"
   ]
  },
  {
   "cell_type": "code",
   "execution_count": 7,
   "id": "892ae599",
   "metadata": {},
   "outputs": [],
   "source": [
    "# Drop additional columns as we don't need these as they are mostly nulls \n",
    "# And also drop other columns which we donot need for analysis as they are customer behavior variable\n",
    "loan.drop(loan.iloc[:, 53:105], inplace = True, axis = 1) \n",
    "loan.keys()\n",
    "\n",
    "columns_to_drop = ['delinq_2yrs', 'earliest_cr_line', 'inq_last_6mths', 'mths_since_last_delinq',\n",
    "       'mths_since_last_record', 'open_acc', 'pub_rec', 'revol_bal',\n",
    "       'revol_util', 'total_acc', 'initial_list_status', 'out_prncp',\n",
    "       'out_prncp_inv', 'total_pymnt', 'total_pymnt_inv', 'total_rec_prncp',\n",
    "       'total_rec_int', 'total_rec_late_fee', 'recoveries',\n",
    "       'collection_recovery_fee', 'last_pymnt_d', 'last_pymnt_amnt',\n",
    "       'next_pymnt_d', 'last_credit_pull_d', 'collections_12_mths_ex_med',\n",
    "       'mths_since_last_major_derog', 'policy_code', 'application_type']\n",
    "loan.drop(labels = columns_to_drop, axis = 1, inplace = True)\n",
    "\n"
   ]
  },
  {
   "cell_type": "code",
   "execution_count": 275,
   "id": "c97b5c82",
   "metadata": {},
   "outputs": [
    {
     "data": {
      "text/plain": [
       "Index(['id', 'member_id', 'loan_amnt', 'funded_amnt', 'funded_amnt_inv',\n",
       "       'term', 'int_rate', 'installment', 'grade', 'sub_grade', 'emp_title',\n",
       "       'emp_length', 'home_ownership', 'annual_inc', 'verification_status',\n",
       "       'issue_d', 'loan_status', 'pymnt_plan', 'url', 'desc', 'purpose',\n",
       "       'title', 'zip_code', 'addr_state', 'dti', 'pub_rec_bankruptcies',\n",
       "       'tax_liens', 'tot_hi_cred_lim', 'total_bal_ex_mort', 'total_bc_limit',\n",
       "       'total_il_high_credit_limit'],\n",
       "      dtype='object')"
      ]
     },
     "execution_count": 275,
     "metadata": {},
     "output_type": "execute_result"
    }
   ],
   "source": [
    "loan.keys()"
   ]
  },
  {
   "cell_type": "code",
   "execution_count": 8,
   "id": "2dc553b8",
   "metadata": {},
   "outputs": [],
   "source": [
    "columns_to_drop_2 = ['pub_rec_bankruptcies','tax_liens', 'tot_hi_cred_lim', 'total_bal_ex_mort', 'total_bc_limit','total_il_high_credit_limit']\n",
    "loan.drop(labels = columns_to_drop_2, axis = 1, inplace = True)"
   ]
  },
  {
   "cell_type": "code",
   "execution_count": 9,
   "id": "de2a3bc5",
   "metadata": {},
   "outputs": [
    {
     "name": "stdout",
     "output_type": "stream",
     "text": [
      "0\n",
      "0\n"
     ]
    }
   ],
   "source": [
    "# Recheck if any column and Row is holding missing  Value\n",
    "print(loan.isnull().all(axis = 0).sum())\n",
    "print(loan.isnull().all(axis=1).sum())\n",
    "\n"
   ]
  },
  {
   "cell_type": "code",
   "execution_count": 10,
   "id": "81f90ed5",
   "metadata": {},
   "outputs": [
    {
     "name": "stdout",
     "output_type": "stream",
     "text": [
      "New Shape is : \n",
      "(39717, 25)\n"
     ]
    },
    {
     "data": {
      "text/plain": [
       "(39717, 25)"
      ]
     },
     "execution_count": 10,
     "metadata": {},
     "output_type": "execute_result"
    }
   ],
   "source": [
    "print(\"New Shape is : \")\n",
    "print(loan.shape)\n",
    "\n",
    "## Result\n",
    "#New Shape is : \n",
    "(39717, 25)\n"
   ]
  },
  {
   "cell_type": "code",
   "execution_count": 293,
   "id": "9dbd4fa8",
   "metadata": {},
   "outputs": [
    {
     "data": {
      "text/plain": [
       "Index(['id', 'member_id', 'loan_amnt', 'funded_amnt', 'funded_amnt_inv',\n",
       "       'term', 'int_rate', 'installment', 'grade', 'sub_grade', 'emp_title',\n",
       "       'emp_length', 'home_ownership', 'annual_inc', 'verification_status',\n",
       "       'issue_d', 'loan_status', 'pymnt_plan', 'url', 'desc', 'purpose',\n",
       "       'title', 'zip_code', 'addr_state', 'dti'],\n",
       "      dtype='object')"
      ]
     },
     "execution_count": 293,
     "metadata": {},
     "output_type": "execute_result"
    }
   ],
   "source": [
    "loan.keys()"
   ]
  },
  {
   "cell_type": "code",
   "execution_count": 11,
   "id": "18cbf2ac",
   "metadata": {},
   "outputs": [
    {
     "data": {
      "text/plain": [
       "0        10.65\n",
       "1        15.27\n",
       "2        15.96\n",
       "3        13.49\n",
       "4        12.69\n",
       "         ...  \n",
       "39712     8.07\n",
       "39713    10.28\n",
       "39714     8.07\n",
       "39715     7.43\n",
       "39716    13.75\n",
       "Name: int_rate, Length: 39717, dtype: object"
      ]
     },
     "execution_count": 11,
     "metadata": {},
     "output_type": "execute_result"
    }
   ],
   "source": [
    "# Data Cleaning \n",
    "loan['int_rate']\n",
    "# Remove % symbol from \"int_rate\" , else it cannot be used for computations\n",
    "loan['int_rate'] = loan['int_rate'].str.rstrip('%')\n",
    "loan['int_rate']\n",
    "\n"
   ]
  },
  {
   "cell_type": "code",
   "execution_count": 12,
   "id": "c7c8b48a",
   "metadata": {},
   "outputs": [],
   "source": [
    "# Data Cleaning \n",
    "#Remove \"</>,+,years,etc\" from column\"emp_length\" so that it contains only numeric value\n",
    "loan['emp_length']=loan.emp_length.str.extract('(\\d+)')\n",
    "loan['emp_length']\n",
    "\n",
    "\n",
    "#Convert the important column to numeric so that mean,sd,etc can be done\n",
    "col = ['loan_amnt','funded_amnt','int_rate','funded_amnt_inv','installment','annual_inc','dti','emp_length']\n",
    "loan[col] = loan[col].apply(pd.to_numeric)\n"
   ]
  },
  {
   "cell_type": "code",
   "execution_count": 13,
   "id": "2bd931cd",
   "metadata": {},
   "outputs": [
    {
     "name": "stdout",
     "output_type": "stream",
     "text": [
      "id                      object\n",
      "member_id               object\n",
      "loan_amnt                int64\n",
      "funded_amnt              int64\n",
      "funded_amnt_inv        float64\n",
      "term                    object\n",
      "int_rate               float64\n",
      "installment            float64\n",
      "grade                   object\n",
      "sub_grade               object\n",
      "emp_title               object\n",
      "emp_length             float64\n",
      "home_ownership          object\n",
      "annual_inc             float64\n",
      "verification_status     object\n",
      "issue_d                 object\n",
      "loan_status             object\n",
      "pymnt_plan              object\n",
      "url                     object\n",
      "desc                    object\n",
      "purpose                 object\n",
      "title                   object\n",
      "zip_code                object\n",
      "addr_state              object\n",
      "dti                    float64\n",
      "dtype: object\n"
     ]
    }
   ],
   "source": [
    "#show all data types\n",
    "print(loan.dtypes)"
   ]
  },
  {
   "cell_type": "code",
   "execution_count": null,
   "id": "55afcd3a",
   "metadata": {},
   "outputs": [],
   "source": []
  }
 ],
 "metadata": {
  "kernelspec": {
   "display_name": "Python 3 (ipykernel)",
   "language": "python",
   "name": "python3"
  },
  "language_info": {
   "codemirror_mode": {
    "name": "ipython",
    "version": 3
   },
   "file_extension": ".py",
   "mimetype": "text/x-python",
   "name": "python",
   "nbconvert_exporter": "python",
   "pygments_lexer": "ipython3",
   "version": "3.9.13"
  }
 },
 "nbformat": 4,
 "nbformat_minor": 5
}
